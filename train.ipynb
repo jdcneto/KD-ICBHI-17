{
 "cells": [
  {
   "cell_type": "markdown",
   "metadata": {},
   "source": [
    "# Import Packages"
   ]
  },
  {
   "cell_type": "code",
   "execution_count": 1,
   "metadata": {},
   "outputs": [],
   "source": [
    "import pandas as pd\n",
    "import torch\n",
    "import torch.nn as nn\n",
    "from torch.utils.data import DataLoader\n",
    "from torch.optim import AdamW, Adam\n",
    "from models.mobileViTCA import make_model\n",
    "from models.PANN import Wavegram_Logmel_Cnn14\n",
    "from dataset import train_set, test_set, validation_set\n",
    "from vanilla_kd import VanillaKD"
   ]
  },
  {
   "cell_type": "markdown",
   "metadata": {},
   "source": [
    "# Loading Models"
   ]
  },
  {
   "cell_type": "markdown",
   "metadata": {},
   "source": [
    "## Teacher Model"
   ]
  },
  {
   "cell_type": "code",
   "execution_count": 2,
   "metadata": {},
   "outputs": [
    {
     "name": "stderr",
     "output_type": "stream",
     "text": [
      "c:\\Users\\jdcn\\anaconda3\\envs\\tcc\\lib\\site-packages\\torchlibrosa\\stft.py:193: FutureWarning: Pass size=1024 as keyword args. From version 0.10 passing these as positional arguments will result in an error\n",
      "  fft_window = librosa.util.pad_center(fft_window, n_fft)\n"
     ]
    },
    {
     "data": {
      "text/plain": [
       "<All keys matched successfully>"
      ]
     },
     "execution_count": 2,
     "metadata": {},
     "output_type": "execute_result"
    }
   ],
   "source": [
    "teacher = Wavegram_Logmel_Cnn14()\n",
    "\n",
    "# Loading weights from AudioSet pretrained model\n",
    "state_dict = torch.load(r'C:\\Users\\jdcn\\Desktop\\PSLA\\Wavegram_Logmel_Cnn14_mAP=0.439.pth')\n",
    "teacher.load_state_dict(state_dict['model'])"
   ]
  },
  {
   "cell_type": "code",
   "execution_count": 3,
   "metadata": {},
   "outputs": [],
   "source": [
    "for param in teacher.parameters():\n",
    "    param.requires_grad = False"
   ]
  },
  {
   "cell_type": "code",
   "execution_count": 4,
   "metadata": {},
   "outputs": [],
   "source": [
    "# Change Classifier Layer\n",
    "in_features = teacher.fc_audioset.in_features\n",
    "\n",
    "teacher.fc_audioset = nn.Linear(in_features,4)"
   ]
  },
  {
   "cell_type": "markdown",
   "metadata": {},
   "source": [
    "## Student Model"
   ]
  },
  {
   "cell_type": "code",
   "execution_count": 5,
   "metadata": {},
   "outputs": [],
   "source": [
    "student = make_model(net='xxs', num_classes = 4, patch_size=(4,4), patch_stride=(3,3))"
   ]
  },
  {
   "cell_type": "markdown",
   "metadata": {},
   "source": [
    "## Models Hyperparams"
   ]
  },
  {
   "cell_type": "code",
   "execution_count": 12,
   "metadata": {},
   "outputs": [],
   "source": [
    "# Learning Rate\n",
    "Lr = 0.0001\n",
    "# Optimizer\n",
    "teacher_optim = Adam(teacher.parameters(), lr=Lr, weight_decay=0)\n",
    "student_optim = AdamW(student.parameters(), lr=Lr, weight_decay=1e-4)"
   ]
  },
  {
   "cell_type": "markdown",
   "metadata": {},
   "source": [
    "# Dataset"
   ]
  },
  {
   "cell_type": "code",
   "execution_count": 7,
   "metadata": {},
   "outputs": [],
   "source": [
    "train_df = r'D:\\UFPE\\TCC\\Train2.csv'\n",
    "val_df   = r'D:\\UFPE\\TCC\\Val2.csv'\n",
    "test_df  = r'D:\\UFPE\\TCC\\Test2.csv'"
   ]
  },
  {
   "cell_type": "code",
   "execution_count": 8,
   "metadata": {},
   "outputs": [],
   "source": [
    "train_ds = train_set(train_df, r'D:\\UFPE\\TCC\\Train2', mix_up=True)\n",
    "val_ds = validation_set(val_df, r'D:\\UFPE\\TCC\\Val2')\n",
    "test_ds = test_set(test_df, r'D:\\UFPE\\TCC\\Test2')"
   ]
  },
  {
   "cell_type": "code",
   "execution_count": 9,
   "metadata": {},
   "outputs": [],
   "source": [
    "train_loader = torch.utils.data.DataLoader(train_ds, batch_size=2, shuffle=True)\n",
    "\n",
    "val_loader = torch.utils.data.DataLoader(val_ds, batch_size=2, shuffle=False)\n",
    "\n",
    "test_loader = torch.utils.data.DataLoader(test_ds, batch_size=2, shuffle=False)"
   ]
  },
  {
   "cell_type": "markdown",
   "metadata": {},
   "source": [
    "# Knwoledge Distillation "
   ]
  },
  {
   "cell_type": "code",
   "execution_count": 13,
   "metadata": {},
   "outputs": [],
   "source": [
    "num_epoch=10\n",
    "# Distillation instance\n",
    "distiller = VanillaKD(teacher, student, train_loader, test_loader, teacher_optim, student_optim) "
   ]
  },
  {
   "cell_type": "markdown",
   "metadata": {},
   "source": [
    "## Train Teacher"
   ]
  },
  {
   "cell_type": "code",
   "execution_count": 14,
   "metadata": {},
   "outputs": [
    {
     "name": "stdout",
     "output_type": "stream",
     "text": [
      "Training Teacher... \n",
      "Teacher Stats --> Epoch: 1 | Train Loss: 1.45, Train Accuracy: 0.11 | Validation Loss: 1.38, Validation Accuracy: 0.22\n",
      "Teacher Stats --> Epoch: 2 | Train Loss: 1.44, Train Accuracy: 0.11 | Validation Loss: 1.38, Validation Accuracy: 0.22\n",
      "Teacher Stats --> Epoch: 3 | Train Loss: 1.44, Train Accuracy: 0.11 | Validation Loss: 1.38, Validation Accuracy: 0.25\n",
      "Teacher Stats --> Epoch: 4 | Train Loss: 1.44, Train Accuracy: 0.11 | Validation Loss: 1.38, Validation Accuracy: 0.24\n",
      "Teacher Stats --> Epoch: 5 | Train Loss: 1.44, Train Accuracy: 0.11 | Validation Loss: 1.38, Validation Accuracy: 0.24\n",
      "Teacher Stats --> Epoch: 6 | Train Loss: 1.44, Train Accuracy: 0.11 | Validation Loss: 1.37, Validation Accuracy: 0.27\n",
      "Teacher Stats --> Epoch: 7 | Train Loss: 1.44, Train Accuracy: 0.11 | Validation Loss: 1.38, Validation Accuracy: 0.25\n",
      "Teacher Stats --> Epoch: 8 | Train Loss: 1.44, Train Accuracy: 0.11 | Validation Loss: 1.38, Validation Accuracy: 0.19\n",
      "Teacher Stats --> Epoch: 9 | Train Loss: 1.44, Train Accuracy: 0.11 | Validation Loss: 1.38, Validation Accuracy: 0.28\n",
      "Teacher Stats --> Epoch: 10 | Train Loss: 1.44, Train Accuracy: 0.11 | Validation Loss: 1.38, Validation Accuracy: 0.28\n"
     ]
    },
    {
     "data": {
      "image/png": "[encoded data removed]",
      "text/plain": [
       "<Figure size 640x480 with 1 Axes>"
      ]
     },
     "metadata": {},
     "output_type": "display_data"
    }
   ],
   "source": [
    "# Train Teacher \n",
    "distiller.train_teacher(epochs=num_epoch, plot_losses=True, save_model=True)      "
   ]
  },
  {
   "cell_type": "markdown",
   "metadata": {},
   "source": [
    "## Train Student"
   ]
  },
  {
   "cell_type": "code",
   "execution_count": null,
   "metadata": {},
   "outputs": [],
   "source": [
    "# Train Student\n",
    "distiller.train_student(epochs=num_epoch, plot_losses=True, save_model=True) "
   ]
  },
  {
   "cell_type": "code",
   "execution_count": null,
   "metadata": {},
   "outputs": [
    {
     "name": "stdout",
     "output_type": "stream",
     "text": [
      "--------------------------------------------------------------------------------\n",
      "Total parameters for the teacher network are: 85420541\n",
      "Total parameters for the student network are: 1023864\n"
     ]
    }
   ],
   "source": [
    "distiller.get_parameters()"
   ]
  }
 ],
 "metadata": {
  "kernelspec": {
   "display_name": "Python 3.10.4 ('tcc')",
   "language": "python",
   "name": "python3"
  },
  "language_info": {
   "codemirror_mode": {
    "name": "ipython",
    "version": 3
   },
   "file_extension": ".py",
   "mimetype": "text/x-python",
   "name": "python",
   "nbconvert_exporter": "python",
   "pygments_lexer": "ipython3",
   "version": "3.10.4"
  },
  "orig_nbformat": 4,
  "vscode": {
   "interpreter": {
    "hash": "3b1f3976d9f1d9d0fd208cc8ca0ec295ceaf3eae61f9be2a9afbe480971bda05"
   }
  }
 },
 "nbformat": 4,
 "nbformat_minor": 2
}
