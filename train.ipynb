{
 "cells": [
  {
   "cell_type": "markdown",
   "metadata": {},
   "source": [
    "# Import Packages"
   ]
  },
  {
   "cell_type": "code",
   "execution_count": null,
   "metadata": {},
   "outputs": [],
   "source": [
    "import pandas as pd\n",
    "import torch\n",
    "from torch.utils.data import DataLoader\n",
    "from torch.optim import AdamW, Adam\n",
    "from base import get_basic_model, get_model_passt\n",
    "from models.mobileViTCA import make_model\n",
    "from dataset import train_set, test_set, validation_set\n",
    "from vanilla_kd import VanillaKD"
   ]
  },
  {
   "cell_type": "markdown",
   "metadata": {},
   "source": [
    "# Loading Models"
   ]
  },
  {
   "cell_type": "markdown",
   "metadata": {},
   "source": [
    "## Teacher Model"
   ]
  },
  {
   "cell_type": "code",
   "execution_count": null,
   "metadata": {},
   "outputs": [],
   "source": [
    "teacher = get_basic_model(mode=\"logits\")\n",
    "\n",
    "teacher.net = get_model_passt(arch=\"passt_s_swa_p16_128_ap476\",  n_classes=4)\n",
    "# Loading weights from ESC50 pretrained model\n",
    "state_dict = torch.hub.load_state_dict_from_url(url='https://github.com/kkoutini/PaSST/releases/download/v.0.0.6/esc50-passt-s-n-f128-p16-s10-fold2-acc.977.pt')\n",
    "teacher.net.load_state_dict(state_dict) "
   ]
  },
  {
   "cell_type": "markdown",
   "metadata": {},
   "source": [
    "## Student Model"
   ]
  },
  {
   "cell_type": "code",
   "execution_count": null,
   "metadata": {},
   "outputs": [],
   "source": [
    "student = make_model(net='xxs', num_classes = 4, patch_size=(4,4), patch_stride=(3,3))"
   ]
  },
  {
   "cell_type": "markdown",
   "metadata": {},
   "source": [
    "## Models Hyperparams"
   ]
  },
  {
   "cell_type": "code",
   "execution_count": null,
   "metadata": {},
   "outputs": [],
   "source": [
    "# Learning Rate\n",
    "Lr = 0.001\n",
    "# Optimizer\n",
    "teacher_optim = AdamW(teacher.parameters(), lr=Lr)\n",
    "student_optim = AdamW(student.parameters(), lr=Lr)"
   ]
  },
  {
   "cell_type": "markdown",
   "metadata": {},
   "source": [
    "# Dataset"
   ]
  },
  {
   "cell_type": "code",
   "execution_count": null,
   "metadata": {},
   "outputs": [],
   "source": [
    "train_df = pd.read_csv('train.cvs')\n",
    "val_df   = pd.read_csv('Val.cvs')\n",
    "test_df  = pd.read_csv('test.cvs')"
   ]
  },
  {
   "cell_type": "code",
   "execution_count": null,
   "metadata": {},
   "outputs": [],
   "source": [
    "train_ds = train_set(train_df, 'Train')\n",
    "val_ds = train_set(val_df, 'Val')\n",
    "test_ds = train_set(test_df, 'Test')"
   ]
  },
  {
   "cell_type": "code",
   "execution_count": null,
   "metadata": {},
   "outputs": [],
   "source": [
    "train_loader = torch.utils.data.DataLoader(train_ds, batch_size=32, shuffle=True)\n",
    "\n",
    "val_loader = torch.utils.data.DataLoader(val_ds, batch_size=32, shuffle=True)\n",
    "\n",
    "test_loader = torch.utils.data.DataLoader(test_ds, batch_size=32, shuffle=True)"
   ]
  },
  {
   "cell_type": "markdown",
   "metadata": {},
   "source": [
    "# Knwoledge Distillation "
   ]
  },
  {
   "cell_type": "code",
   "execution_count": null,
   "metadata": {},
   "outputs": [],
   "source": [
    "num_epoch=100\n",
    "# Distillation instance\n",
    "distiller = VanillaKD(teacher, student, train_loader, test_loader, teacher_optim, student_optim) \n",
    "# Train Teacher \n",
    "distiller.train_teacher(epochs=num_epoch, plot_losses=True, save_model=True)    \n",
    "# Train Student\n",
    "distiller.train_student(epochs=num_epoch, plot_losses=True, save_model=True)    "
   ]
  }
 ],
 "metadata": {
  "kernelspec": {
   "display_name": "Python 3.9.7 ('base')",
   "language": "python",
   "name": "python3"
  },
  "language_info": {
   "name": "python",
   "version": "3.9.7"
  },
  "orig_nbformat": 4,
  "vscode": {
   "interpreter": {
    "hash": "64b2cda1c5de645e8edfd62639bb15ed4d6de4b0cf9bf6ac304d4a093a727681"
   }
  }
 },
 "nbformat": 4,
 "nbformat_minor": 2
}
